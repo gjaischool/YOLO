{
  "nbformat": 4,
  "nbformat_minor": 0,
  "metadata": {
    "colab": {
      "provenance": []
    },
    "kernelspec": {
      "name": "python3",
      "display_name": "Python 3"
    },
    "language_info": {
      "name": "python"
    }
  },
  "cells": [
    {
      "cell_type": "markdown",
      "source": [
        "##환경설정"
      ],
      "metadata": {
        "id": "KCA9_-hT6E3r"
      }
    },
    {
      "cell_type": "code",
      "execution_count": 3,
      "metadata": {
        "colab": {
          "base_uri": "https://localhost:8080/"
        },
        "id": "w1d_9sA75jgT",
        "outputId": "44795880-3079-4b28-db51-1f874720ca62"
      },
      "outputs": [
        {
          "output_type": "stream",
          "name": "stdout",
          "text": [
            "Requirement already satisfied: pyyaml in /usr/local/lib/python3.10/dist-packages (6.0.2)\n"
          ]
        }
      ],
      "source": [
        "!pip install pyyaml\n",
        "# pip install ruamel.yaml"
      ]
    },
    {
      "cell_type": "markdown",
      "source": [
        "##JSON 파일을 YAML로 변환하는 Python 코드"
      ],
      "metadata": {
        "id": "P7LXnmBy6QPO"
      }
    },
    {
      "cell_type": "code",
      "source": [
        "import json\n",
        "import yaml\n",
        "import sys\n",
        "\n",
        "def json_to_yaml(json_file_path, yaml_file_path):\n",
        "    try:\n",
        "        # JSON 파일 읽기\n",
        "        with open(json_file_path, 'r', encoding='utf-8') as json_file:\n",
        "            data = json.load(json_file)\n",
        "\n",
        "        # YAML 파일로 쓰기\n",
        "        with open(yaml_file_path, 'w', encoding='utf-8') as yaml_file:\n",
        "            yaml.dump(data, yaml_file, allow_unicode=True, sort_keys=False)\n",
        "            # allow_unicode=True 옵션을 사용하여 한글 등 유니코드 문자가 올바르게 저장\n",
        "            # sort_keys=False 옵션을 사용하여 JSON 파일의 키 순서가 YAML 파일에도 유지\n",
        "\n",
        "        print(f\"성공적으로 변환되었습니다: {yaml_file_path}\")\n",
        "\n",
        "    except FileNotFoundError:\n",
        "        print(f\"파일을 찾을 수 없습니다: {json_file_path}\")\n",
        "    except json.JSONDecodeError:\n",
        "        print(f\"유효하지 않은 JSON 형식입니다: {json_file_path}\")\n",
        "    except Exception as e:\n",
        "        print(f\"오류가 발생했습니다: {e}\")\n",
        "\n",
        "if __name__ == \"__main__\":\n",
        "    if len(sys.argv) != 3:\n",
        "        print(\"사용법: python json_to_yaml.py <input_json_file> <output_yaml_file>\")\n",
        "    else:\n",
        "        input_json = sys.argv[1]\n",
        "        output_yaml = sys.argv[2]\n",
        "        json_to_yaml(input_json, output_yaml)\n"
      ],
      "metadata": {
        "id": "-lAmQWyL6PE1"
      },
      "execution_count": null,
      "outputs": []
    }
  ]
}